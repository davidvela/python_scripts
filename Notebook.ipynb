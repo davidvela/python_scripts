{
 "cells": [
  {
   "cell_type": "markdown",
   "metadata": {
    "heading_collapsed": true
   },
   "source": [
    "# Notebook"
   ]
  },
  {
   "cell_type": "code",
   "execution_count": 1,
   "metadata": {
    "hidden": true
   },
   "outputs": [
    {
     "data": {
      "text/plain": [
       "['../../../__data/_config.ini']"
      ]
     },
     "execution_count": 1,
     "metadata": {},
     "output_type": "execute_result"
    }
   ],
   "source": [
    "import configparser\n",
    "\n",
    "path = \"../../../__data/\"\n",
    "config_file = \"_config.ini\"\n",
    "\n",
    "config = configparser.ConfigParser()\n",
    "config.read(path + config_file)\n",
    "# print( config[\"topsecret.server.com\"]['Port'])"
   ]
  },
  {
   "cell_type": "code",
   "execution_count": null,
   "metadata": {
    "hidden": true
   },
   "outputs": [],
   "source": []
  },
  {
   "cell_type": "code",
   "execution_count": 2,
   "metadata": {
    "hidden": true
   },
   "outputs": [
    {
     "name": "stdout",
     "output_type": "stream",
     "text": [
      "test Notebook\n"
     ]
    }
   ],
   "source": [
    "print(\"test Notebook\")"
   ]
  },
  {
   "cell_type": "code",
   "execution_count": null,
   "metadata": {
    "hidden": true
   },
   "outputs": [],
   "source": []
  },
  {
   "cell_type": "code",
   "execution_count": null,
   "metadata": {
    "hidden": true
   },
   "outputs": [],
   "source": []
  },
  {
   "cell_type": "code",
   "execution_count": null,
   "metadata": {
    "hidden": true
   },
   "outputs": [],
   "source": []
  },
  {
   "cell_type": "code",
   "execution_count": null,
   "metadata": {
    "hidden": true
   },
   "outputs": [],
   "source": []
  },
  {
   "cell_type": "code",
   "execution_count": null,
   "metadata": {
    "hidden": true
   },
   "outputs": [],
   "source": []
  },
  {
   "cell_type": "markdown",
   "metadata": {
    "heading_collapsed": true
   },
   "source": [
    "# Pandas Statistics"
   ]
  },
  {
   "cell_type": "code",
   "execution_count": 4,
   "metadata": {
    "hidden": true
   },
   "outputs": [],
   "source": [
    "import pandas as pd "
   ]
  },
  {
   "cell_type": "code",
   "execution_count": 10,
   "metadata": {
    "hidden": true
   },
   "outputs": [],
   "source": [
    "ds_wine = pd.read_csv(path + \"winequality-red.csv\",sep=';')"
   ]
  },
  {
   "cell_type": "code",
   "execution_count": 11,
   "metadata": {
    "hidden": true
   },
   "outputs": [
    {
     "data": {
      "text/html": [
       "<div>\n",
       "<style scoped>\n",
       "    .dataframe tbody tr th:only-of-type {\n",
       "        vertical-align: middle;\n",
       "    }\n",
       "\n",
       "    .dataframe tbody tr th {\n",
       "        vertical-align: top;\n",
       "    }\n",
       "\n",
       "    .dataframe thead th {\n",
       "        text-align: right;\n",
       "    }\n",
       "</style>\n",
       "<table border=\"1\" class=\"dataframe\">\n",
       "  <thead>\n",
       "    <tr style=\"text-align: right;\">\n",
       "      <th></th>\n",
       "      <th>fixed acidity</th>\n",
       "      <th>volatile acidity</th>\n",
       "      <th>citric acid</th>\n",
       "      <th>residual sugar</th>\n",
       "      <th>chlorides</th>\n",
       "      <th>free sulfur dioxide</th>\n",
       "      <th>total sulfur dioxide</th>\n",
       "      <th>density</th>\n",
       "      <th>pH</th>\n",
       "      <th>sulphates</th>\n",
       "      <th>alcohol</th>\n",
       "      <th>quality</th>\n",
       "    </tr>\n",
       "  </thead>\n",
       "  <tbody>\n",
       "    <tr>\n",
       "      <th>0</th>\n",
       "      <td>7.4</td>\n",
       "      <td>0.70</td>\n",
       "      <td>0.00</td>\n",
       "      <td>1.9</td>\n",
       "      <td>0.076</td>\n",
       "      <td>11.0</td>\n",
       "      <td>34.0</td>\n",
       "      <td>0.9978</td>\n",
       "      <td>3.51</td>\n",
       "      <td>0.56</td>\n",
       "      <td>9.4</td>\n",
       "      <td>5</td>\n",
       "    </tr>\n",
       "    <tr>\n",
       "      <th>1</th>\n",
       "      <td>7.8</td>\n",
       "      <td>0.88</td>\n",
       "      <td>0.00</td>\n",
       "      <td>2.6</td>\n",
       "      <td>0.098</td>\n",
       "      <td>25.0</td>\n",
       "      <td>67.0</td>\n",
       "      <td>0.9968</td>\n",
       "      <td>3.20</td>\n",
       "      <td>0.68</td>\n",
       "      <td>9.8</td>\n",
       "      <td>5</td>\n",
       "    </tr>\n",
       "    <tr>\n",
       "      <th>2</th>\n",
       "      <td>7.8</td>\n",
       "      <td>0.76</td>\n",
       "      <td>0.04</td>\n",
       "      <td>2.3</td>\n",
       "      <td>0.092</td>\n",
       "      <td>15.0</td>\n",
       "      <td>54.0</td>\n",
       "      <td>0.9970</td>\n",
       "      <td>3.26</td>\n",
       "      <td>0.65</td>\n",
       "      <td>9.8</td>\n",
       "      <td>5</td>\n",
       "    </tr>\n",
       "    <tr>\n",
       "      <th>3</th>\n",
       "      <td>11.2</td>\n",
       "      <td>0.28</td>\n",
       "      <td>0.56</td>\n",
       "      <td>1.9</td>\n",
       "      <td>0.075</td>\n",
       "      <td>17.0</td>\n",
       "      <td>60.0</td>\n",
       "      <td>0.9980</td>\n",
       "      <td>3.16</td>\n",
       "      <td>0.58</td>\n",
       "      <td>9.8</td>\n",
       "      <td>6</td>\n",
       "    </tr>\n",
       "    <tr>\n",
       "      <th>4</th>\n",
       "      <td>7.4</td>\n",
       "      <td>0.70</td>\n",
       "      <td>0.00</td>\n",
       "      <td>1.9</td>\n",
       "      <td>0.076</td>\n",
       "      <td>11.0</td>\n",
       "      <td>34.0</td>\n",
       "      <td>0.9978</td>\n",
       "      <td>3.51</td>\n",
       "      <td>0.56</td>\n",
       "      <td>9.4</td>\n",
       "      <td>5</td>\n",
       "    </tr>\n",
       "    <tr>\n",
       "      <th>5</th>\n",
       "      <td>7.4</td>\n",
       "      <td>0.66</td>\n",
       "      <td>0.00</td>\n",
       "      <td>1.8</td>\n",
       "      <td>0.075</td>\n",
       "      <td>13.0</td>\n",
       "      <td>40.0</td>\n",
       "      <td>0.9978</td>\n",
       "      <td>3.51</td>\n",
       "      <td>0.56</td>\n",
       "      <td>9.4</td>\n",
       "      <td>5</td>\n",
       "    </tr>\n",
       "    <tr>\n",
       "      <th>6</th>\n",
       "      <td>7.9</td>\n",
       "      <td>0.60</td>\n",
       "      <td>0.06</td>\n",
       "      <td>1.6</td>\n",
       "      <td>0.069</td>\n",
       "      <td>15.0</td>\n",
       "      <td>59.0</td>\n",
       "      <td>0.9964</td>\n",
       "      <td>3.30</td>\n",
       "      <td>0.46</td>\n",
       "      <td>9.4</td>\n",
       "      <td>5</td>\n",
       "    </tr>\n",
       "    <tr>\n",
       "      <th>7</th>\n",
       "      <td>7.3</td>\n",
       "      <td>0.65</td>\n",
       "      <td>0.00</td>\n",
       "      <td>1.2</td>\n",
       "      <td>0.065</td>\n",
       "      <td>15.0</td>\n",
       "      <td>21.0</td>\n",
       "      <td>0.9946</td>\n",
       "      <td>3.39</td>\n",
       "      <td>0.47</td>\n",
       "      <td>10.0</td>\n",
       "      <td>7</td>\n",
       "    </tr>\n",
       "    <tr>\n",
       "      <th>8</th>\n",
       "      <td>7.8</td>\n",
       "      <td>0.58</td>\n",
       "      <td>0.02</td>\n",
       "      <td>2.0</td>\n",
       "      <td>0.073</td>\n",
       "      <td>9.0</td>\n",
       "      <td>18.0</td>\n",
       "      <td>0.9968</td>\n",
       "      <td>3.36</td>\n",
       "      <td>0.57</td>\n",
       "      <td>9.5</td>\n",
       "      <td>7</td>\n",
       "    </tr>\n",
       "    <tr>\n",
       "      <th>9</th>\n",
       "      <td>7.5</td>\n",
       "      <td>0.50</td>\n",
       "      <td>0.36</td>\n",
       "      <td>6.1</td>\n",
       "      <td>0.071</td>\n",
       "      <td>17.0</td>\n",
       "      <td>102.0</td>\n",
       "      <td>0.9978</td>\n",
       "      <td>3.35</td>\n",
       "      <td>0.80</td>\n",
       "      <td>10.5</td>\n",
       "      <td>5</td>\n",
       "    </tr>\n",
       "  </tbody>\n",
       "</table>\n",
       "</div>"
      ],
      "text/plain": [
       "   fixed acidity  volatile acidity  citric acid  residual sugar  chlorides  \\\n",
       "0            7.4              0.70         0.00             1.9      0.076   \n",
       "1            7.8              0.88         0.00             2.6      0.098   \n",
       "2            7.8              0.76         0.04             2.3      0.092   \n",
       "3           11.2              0.28         0.56             1.9      0.075   \n",
       "4            7.4              0.70         0.00             1.9      0.076   \n",
       "5            7.4              0.66         0.00             1.8      0.075   \n",
       "6            7.9              0.60         0.06             1.6      0.069   \n",
       "7            7.3              0.65         0.00             1.2      0.065   \n",
       "8            7.8              0.58         0.02             2.0      0.073   \n",
       "9            7.5              0.50         0.36             6.1      0.071   \n",
       "\n",
       "   free sulfur dioxide  total sulfur dioxide  density    pH  sulphates  \\\n",
       "0                 11.0                  34.0   0.9978  3.51       0.56   \n",
       "1                 25.0                  67.0   0.9968  3.20       0.68   \n",
       "2                 15.0                  54.0   0.9970  3.26       0.65   \n",
       "3                 17.0                  60.0   0.9980  3.16       0.58   \n",
       "4                 11.0                  34.0   0.9978  3.51       0.56   \n",
       "5                 13.0                  40.0   0.9978  3.51       0.56   \n",
       "6                 15.0                  59.0   0.9964  3.30       0.46   \n",
       "7                 15.0                  21.0   0.9946  3.39       0.47   \n",
       "8                  9.0                  18.0   0.9968  3.36       0.57   \n",
       "9                 17.0                 102.0   0.9978  3.35       0.80   \n",
       "\n",
       "   alcohol  quality  \n",
       "0      9.4        5  \n",
       "1      9.8        5  \n",
       "2      9.8        5  \n",
       "3      9.8        6  \n",
       "4      9.4        5  \n",
       "5      9.4        5  \n",
       "6      9.4        5  \n",
       "7     10.0        7  \n",
       "8      9.5        7  \n",
       "9     10.5        5  "
      ]
     },
     "execution_count": 11,
     "metadata": {},
     "output_type": "execute_result"
    }
   ],
   "source": [
    "ds_wine.head(10)"
   ]
  },
  {
   "cell_type": "code",
   "execution_count": 12,
   "metadata": {
    "hidden": true
   },
   "outputs": [
    {
     "data": {
      "text/html": [
       "<div>\n",
       "<style scoped>\n",
       "    .dataframe tbody tr th:only-of-type {\n",
       "        vertical-align: middle;\n",
       "    }\n",
       "\n",
       "    .dataframe tbody tr th {\n",
       "        vertical-align: top;\n",
       "    }\n",
       "\n",
       "    .dataframe thead th {\n",
       "        text-align: right;\n",
       "    }\n",
       "</style>\n",
       "<table border=\"1\" class=\"dataframe\">\n",
       "  <thead>\n",
       "    <tr style=\"text-align: right;\">\n",
       "      <th></th>\n",
       "      <th>fixed acidity</th>\n",
       "      <th>volatile acidity</th>\n",
       "      <th>citric acid</th>\n",
       "      <th>residual sugar</th>\n",
       "      <th>chlorides</th>\n",
       "      <th>free sulfur dioxide</th>\n",
       "      <th>total sulfur dioxide</th>\n",
       "      <th>density</th>\n",
       "      <th>pH</th>\n",
       "      <th>sulphates</th>\n",
       "      <th>alcohol</th>\n",
       "      <th>quality</th>\n",
       "    </tr>\n",
       "  </thead>\n",
       "  <tbody>\n",
       "    <tr>\n",
       "      <th>count</th>\n",
       "      <td>1599.000000</td>\n",
       "      <td>1599.000000</td>\n",
       "      <td>1599.000000</td>\n",
       "      <td>1599.000000</td>\n",
       "      <td>1599.000000</td>\n",
       "      <td>1599.000000</td>\n",
       "      <td>1599.000000</td>\n",
       "      <td>1599.000000</td>\n",
       "      <td>1599.000000</td>\n",
       "      <td>1599.000000</td>\n",
       "      <td>1599.000000</td>\n",
       "      <td>1599.000000</td>\n",
       "    </tr>\n",
       "    <tr>\n",
       "      <th>mean</th>\n",
       "      <td>8.319637</td>\n",
       "      <td>0.527821</td>\n",
       "      <td>0.270976</td>\n",
       "      <td>2.538806</td>\n",
       "      <td>0.087467</td>\n",
       "      <td>15.874922</td>\n",
       "      <td>46.467792</td>\n",
       "      <td>0.996747</td>\n",
       "      <td>3.311113</td>\n",
       "      <td>0.658149</td>\n",
       "      <td>10.422983</td>\n",
       "      <td>5.636023</td>\n",
       "    </tr>\n",
       "    <tr>\n",
       "      <th>std</th>\n",
       "      <td>1.741096</td>\n",
       "      <td>0.179060</td>\n",
       "      <td>0.194801</td>\n",
       "      <td>1.409928</td>\n",
       "      <td>0.047065</td>\n",
       "      <td>10.460157</td>\n",
       "      <td>32.895324</td>\n",
       "      <td>0.001887</td>\n",
       "      <td>0.154386</td>\n",
       "      <td>0.169507</td>\n",
       "      <td>1.065668</td>\n",
       "      <td>0.807569</td>\n",
       "    </tr>\n",
       "    <tr>\n",
       "      <th>min</th>\n",
       "      <td>4.600000</td>\n",
       "      <td>0.120000</td>\n",
       "      <td>0.000000</td>\n",
       "      <td>0.900000</td>\n",
       "      <td>0.012000</td>\n",
       "      <td>1.000000</td>\n",
       "      <td>6.000000</td>\n",
       "      <td>0.990070</td>\n",
       "      <td>2.740000</td>\n",
       "      <td>0.330000</td>\n",
       "      <td>8.400000</td>\n",
       "      <td>3.000000</td>\n",
       "    </tr>\n",
       "    <tr>\n",
       "      <th>25%</th>\n",
       "      <td>7.100000</td>\n",
       "      <td>0.390000</td>\n",
       "      <td>0.090000</td>\n",
       "      <td>1.900000</td>\n",
       "      <td>0.070000</td>\n",
       "      <td>7.000000</td>\n",
       "      <td>22.000000</td>\n",
       "      <td>0.995600</td>\n",
       "      <td>3.210000</td>\n",
       "      <td>0.550000</td>\n",
       "      <td>9.500000</td>\n",
       "      <td>5.000000</td>\n",
       "    </tr>\n",
       "    <tr>\n",
       "      <th>50%</th>\n",
       "      <td>7.900000</td>\n",
       "      <td>0.520000</td>\n",
       "      <td>0.260000</td>\n",
       "      <td>2.200000</td>\n",
       "      <td>0.079000</td>\n",
       "      <td>14.000000</td>\n",
       "      <td>38.000000</td>\n",
       "      <td>0.996750</td>\n",
       "      <td>3.310000</td>\n",
       "      <td>0.620000</td>\n",
       "      <td>10.200000</td>\n",
       "      <td>6.000000</td>\n",
       "    </tr>\n",
       "    <tr>\n",
       "      <th>75%</th>\n",
       "      <td>9.200000</td>\n",
       "      <td>0.640000</td>\n",
       "      <td>0.420000</td>\n",
       "      <td>2.600000</td>\n",
       "      <td>0.090000</td>\n",
       "      <td>21.000000</td>\n",
       "      <td>62.000000</td>\n",
       "      <td>0.997835</td>\n",
       "      <td>3.400000</td>\n",
       "      <td>0.730000</td>\n",
       "      <td>11.100000</td>\n",
       "      <td>6.000000</td>\n",
       "    </tr>\n",
       "    <tr>\n",
       "      <th>max</th>\n",
       "      <td>15.900000</td>\n",
       "      <td>1.580000</td>\n",
       "      <td>1.000000</td>\n",
       "      <td>15.500000</td>\n",
       "      <td>0.611000</td>\n",
       "      <td>72.000000</td>\n",
       "      <td>289.000000</td>\n",
       "      <td>1.003690</td>\n",
       "      <td>4.010000</td>\n",
       "      <td>2.000000</td>\n",
       "      <td>14.900000</td>\n",
       "      <td>8.000000</td>\n",
       "    </tr>\n",
       "  </tbody>\n",
       "</table>\n",
       "</div>"
      ],
      "text/plain": [
       "       fixed acidity  volatile acidity  citric acid  residual sugar  \\\n",
       "count    1599.000000       1599.000000  1599.000000     1599.000000   \n",
       "mean        8.319637          0.527821     0.270976        2.538806   \n",
       "std         1.741096          0.179060     0.194801        1.409928   \n",
       "min         4.600000          0.120000     0.000000        0.900000   \n",
       "25%         7.100000          0.390000     0.090000        1.900000   \n",
       "50%         7.900000          0.520000     0.260000        2.200000   \n",
       "75%         9.200000          0.640000     0.420000        2.600000   \n",
       "max        15.900000          1.580000     1.000000       15.500000   \n",
       "\n",
       "         chlorides  free sulfur dioxide  total sulfur dioxide      density  \\\n",
       "count  1599.000000          1599.000000           1599.000000  1599.000000   \n",
       "mean      0.087467            15.874922             46.467792     0.996747   \n",
       "std       0.047065            10.460157             32.895324     0.001887   \n",
       "min       0.012000             1.000000              6.000000     0.990070   \n",
       "25%       0.070000             7.000000             22.000000     0.995600   \n",
       "50%       0.079000            14.000000             38.000000     0.996750   \n",
       "75%       0.090000            21.000000             62.000000     0.997835   \n",
       "max       0.611000            72.000000            289.000000     1.003690   \n",
       "\n",
       "                pH    sulphates      alcohol      quality  \n",
       "count  1599.000000  1599.000000  1599.000000  1599.000000  \n",
       "mean      3.311113     0.658149    10.422983     5.636023  \n",
       "std       0.154386     0.169507     1.065668     0.807569  \n",
       "min       2.740000     0.330000     8.400000     3.000000  \n",
       "25%       3.210000     0.550000     9.500000     5.000000  \n",
       "50%       3.310000     0.620000    10.200000     6.000000  \n",
       "75%       3.400000     0.730000    11.100000     6.000000  \n",
       "max       4.010000     2.000000    14.900000     8.000000  "
      ]
     },
     "execution_count": 12,
     "metadata": {},
     "output_type": "execute_result"
    }
   ],
   "source": [
    "ds_wine.describe()"
   ]
  },
  {
   "cell_type": "code",
   "execution_count": 15,
   "metadata": {
    "hidden": true
   },
   "outputs": [
    {
     "data": {
      "text/html": [
       "<div>\n",
       "<style scoped>\n",
       "    .dataframe tbody tr th:only-of-type {\n",
       "        vertical-align: middle;\n",
       "    }\n",
       "\n",
       "    .dataframe tbody tr th {\n",
       "        vertical-align: top;\n",
       "    }\n",
       "\n",
       "    .dataframe thead th {\n",
       "        text-align: right;\n",
       "    }\n",
       "</style>\n",
       "<table border=\"1\" class=\"dataframe\">\n",
       "  <thead>\n",
       "    <tr style=\"text-align: right;\">\n",
       "      <th></th>\n",
       "      <th>fixed acidity</th>\n",
       "      <th>volatile acidity</th>\n",
       "      <th>citric acid</th>\n",
       "      <th>residual sugar</th>\n",
       "      <th>chlorides</th>\n",
       "      <th>free sulfur dioxide</th>\n",
       "      <th>total sulfur dioxide</th>\n",
       "      <th>density</th>\n",
       "      <th>pH</th>\n",
       "      <th>sulphates</th>\n",
       "      <th>alcohol</th>\n",
       "      <th>quality</th>\n",
       "    </tr>\n",
       "  </thead>\n",
       "  <tbody>\n",
       "    <tr>\n",
       "      <th>count</th>\n",
       "      <td>408.000000</td>\n",
       "      <td>408.000000</td>\n",
       "      <td>408.000000</td>\n",
       "      <td>408.000000</td>\n",
       "      <td>408.000000</td>\n",
       "      <td>408.000000</td>\n",
       "      <td>408.000000</td>\n",
       "      <td>408.000000</td>\n",
       "      <td>408.000000</td>\n",
       "      <td>408.000000</td>\n",
       "      <td>408.000000</td>\n",
       "      <td>408.000000</td>\n",
       "    </tr>\n",
       "    <tr>\n",
       "      <th>mean</th>\n",
       "      <td>8.157598</td>\n",
       "      <td>0.471716</td>\n",
       "      <td>0.313015</td>\n",
       "      <td>2.627574</td>\n",
       "      <td>0.075044</td>\n",
       "      <td>14.753676</td>\n",
       "      <td>37.041667</td>\n",
       "      <td>0.995328</td>\n",
       "      <td>3.346863</td>\n",
       "      <td>0.676422</td>\n",
       "      <td>11.919322</td>\n",
       "      <td>6.198529</td>\n",
       "    </tr>\n",
       "    <tr>\n",
       "      <th>std</th>\n",
       "      <td>2.013014</td>\n",
       "      <td>0.177920</td>\n",
       "      <td>0.209028</td>\n",
       "      <td>1.299000</td>\n",
       "      <td>0.024213</td>\n",
       "      <td>9.994224</td>\n",
       "      <td>31.687211</td>\n",
       "      <td>0.002178</td>\n",
       "      <td>0.176492</td>\n",
       "      <td>0.127010</td>\n",
       "      <td>0.682499</td>\n",
       "      <td>0.806788</td>\n",
       "    </tr>\n",
       "    <tr>\n",
       "      <th>min</th>\n",
       "      <td>4.600000</td>\n",
       "      <td>0.120000</td>\n",
       "      <td>0.000000</td>\n",
       "      <td>0.900000</td>\n",
       "      <td>0.012000</td>\n",
       "      <td>3.000000</td>\n",
       "      <td>6.000000</td>\n",
       "      <td>0.990070</td>\n",
       "      <td>2.890000</td>\n",
       "      <td>0.370000</td>\n",
       "      <td>11.066667</td>\n",
       "      <td>4.000000</td>\n",
       "    </tr>\n",
       "    <tr>\n",
       "      <th>25%</th>\n",
       "      <td>6.700000</td>\n",
       "      <td>0.340000</td>\n",
       "      <td>0.100000</td>\n",
       "      <td>2.000000</td>\n",
       "      <td>0.060000</td>\n",
       "      <td>6.000000</td>\n",
       "      <td>17.000000</td>\n",
       "      <td>0.993955</td>\n",
       "      <td>3.230000</td>\n",
       "      <td>0.580000</td>\n",
       "      <td>11.400000</td>\n",
       "      <td>6.000000</td>\n",
       "    </tr>\n",
       "    <tr>\n",
       "      <th>50%</th>\n",
       "      <td>7.900000</td>\n",
       "      <td>0.440000</td>\n",
       "      <td>0.340000</td>\n",
       "      <td>2.250000</td>\n",
       "      <td>0.071000</td>\n",
       "      <td>12.500000</td>\n",
       "      <td>27.000000</td>\n",
       "      <td>0.995150</td>\n",
       "      <td>3.330000</td>\n",
       "      <td>0.660000</td>\n",
       "      <td>11.800000</td>\n",
       "      <td>6.000000</td>\n",
       "    </tr>\n",
       "    <tr>\n",
       "      <th>75%</th>\n",
       "      <td>9.325000</td>\n",
       "      <td>0.580000</td>\n",
       "      <td>0.460000</td>\n",
       "      <td>2.700000</td>\n",
       "      <td>0.085250</td>\n",
       "      <td>19.000000</td>\n",
       "      <td>46.000000</td>\n",
       "      <td>0.996300</td>\n",
       "      <td>3.442500</td>\n",
       "      <td>0.762500</td>\n",
       "      <td>12.400000</td>\n",
       "      <td>7.000000</td>\n",
       "    </tr>\n",
       "    <tr>\n",
       "      <th>max</th>\n",
       "      <td>15.900000</td>\n",
       "      <td>1.115000</td>\n",
       "      <td>0.790000</td>\n",
       "      <td>12.900000</td>\n",
       "      <td>0.230000</td>\n",
       "      <td>51.000000</td>\n",
       "      <td>289.000000</td>\n",
       "      <td>1.003200</td>\n",
       "      <td>4.010000</td>\n",
       "      <td>1.130000</td>\n",
       "      <td>14.900000</td>\n",
       "      <td>8.000000</td>\n",
       "    </tr>\n",
       "  </tbody>\n",
       "</table>\n",
       "</div>"
      ],
      "text/plain": [
       "       fixed acidity  volatile acidity  citric acid  residual sugar  \\\n",
       "count     408.000000        408.000000   408.000000      408.000000   \n",
       "mean        8.157598          0.471716     0.313015        2.627574   \n",
       "std         2.013014          0.177920     0.209028        1.299000   \n",
       "min         4.600000          0.120000     0.000000        0.900000   \n",
       "25%         6.700000          0.340000     0.100000        2.000000   \n",
       "50%         7.900000          0.440000     0.340000        2.250000   \n",
       "75%         9.325000          0.580000     0.460000        2.700000   \n",
       "max        15.900000          1.115000     0.790000       12.900000   \n",
       "\n",
       "        chlorides  free sulfur dioxide  total sulfur dioxide     density  \\\n",
       "count  408.000000           408.000000            408.000000  408.000000   \n",
       "mean     0.075044            14.753676             37.041667    0.995328   \n",
       "std      0.024213             9.994224             31.687211    0.002178   \n",
       "min      0.012000             3.000000              6.000000    0.990070   \n",
       "25%      0.060000             6.000000             17.000000    0.993955   \n",
       "50%      0.071000            12.500000             27.000000    0.995150   \n",
       "75%      0.085250            19.000000             46.000000    0.996300   \n",
       "max      0.230000            51.000000            289.000000    1.003200   \n",
       "\n",
       "               pH   sulphates     alcohol     quality  \n",
       "count  408.000000  408.000000  408.000000  408.000000  \n",
       "mean     3.346863    0.676422   11.919322    6.198529  \n",
       "std      0.176492    0.127010    0.682499    0.806788  \n",
       "min      2.890000    0.370000   11.066667    4.000000  \n",
       "25%      3.230000    0.580000   11.400000    6.000000  \n",
       "50%      3.330000    0.660000   11.800000    6.000000  \n",
       "75%      3.442500    0.762500   12.400000    7.000000  \n",
       "max      4.010000    1.130000   14.900000    8.000000  "
      ]
     },
     "execution_count": 15,
     "metadata": {},
     "output_type": "execute_result"
    }
   ],
   "source": [
    "# dataset_csv['alcohol'].describe()\n",
    "# ds_wine[ds_wine['alcohol'] > 11.0]\n",
    "# ds_wine[ds_wine['alcohol'] > 11.0].count()\n",
    "ds_wine[ds_wine['alcohol'] > 11.0].describe()"
   ]
  },
  {
   "cell_type": "code",
   "execution_count": null,
   "metadata": {
    "hidden": true
   },
   "outputs": [],
   "source": [
    "# ds_wine[ds_wine['job'] > \"Sales\"].describe()"
   ]
  },
  {
   "cell_type": "code",
   "execution_count": 19,
   "metadata": {
    "hidden": true
   },
   "outputs": [],
   "source": [
    "dataset_final = ds_wine[['alcohol','chlorides','quality']]\n"
   ]
  },
  {
   "cell_type": "code",
   "execution_count": 23,
   "metadata": {
    "hidden": true
   },
   "outputs": [
    {
     "data": {
      "image/png": "[encoded data removed]",
      "text/plain": [
       "<Figure size 432x288 with 9 Axes>"
      ]
     },
     "metadata": {
      "needs_background": "light"
     },
     "output_type": "display_data"
    }
   ],
   "source": [
    "import matplotlib.pyplot as plt\n",
    "import pandas\n",
    "from pandas.plotting import scatter_matrix\n",
    "scatter_matrix(dataset_final)\n",
    "plt.show()"
   ]
  },
  {
   "cell_type": "code",
   "execution_count": 24,
   "metadata": {
    "hidden": true
   },
   "outputs": [],
   "source": [
    "# dataset_final"
   ]
  },
  {
   "cell_type": "code",
   "execution_count": null,
   "metadata": {
    "hidden": true
   },
   "outputs": [],
   "source": []
  },
  {
   "cell_type": "markdown",
   "metadata": {
    "heading_collapsed": true
   },
   "source": [
    "# Visualization Matplotlib"
   ]
  },
  {
   "cell_type": "code",
   "execution_count": 16,
   "metadata": {
    "hidden": true
   },
   "outputs": [
    {
     "data": {
      "image/png": "[encoded data removed]",
      "text/plain": [
       "<Figure size 432x288 with 1 Axes>"
      ]
     },
     "metadata": {
      "needs_background": "light"
     },
     "output_type": "display_data"
    }
   ],
   "source": [
    "import matplotlib.pyplot as plt\n",
    "import numpy as np\n",
    "\n",
    "# Prepare the data\n",
    "x = np.linspace(0, 10, 100)\n",
    "\n",
    "# Plot the data\n",
    "plt.plot(x, x, label='linear')\n",
    "# Add a legend\n",
    "plt.legend()\n",
    "\n",
    "# Show the plot\n",
    "plt.show()"
   ]
  },
  {
   "cell_type": "code",
   "execution_count": null,
   "metadata": {
    "hidden": true
   },
   "outputs": [],
   "source": []
  },
  {
   "cell_type": "markdown",
   "metadata": {
    "heading_collapsed": true
   },
   "source": [
    "# SNS visualization"
   ]
  },
  {
   "cell_type": "code",
   "execution_count": null,
   "metadata": {
    "hidden": true
   },
   "outputs": [],
   "source": [
    "from string import ascii_letters\n",
    "import numpy as np\n",
    "import pandas as pd\n",
    "import seaborn as sns\n",
    "import matplotlib.pyplot as plt\n",
    "\n",
    "sns.set(style=\"white\")\n",
    "\n",
    "# Compute the correlation matrix\n",
    "corr = dataset.corr()\n",
    "\n",
    "# Generate a mask for the upper triangle\n",
    "mask = np.zeros_like(corr, dtype=np.bool)\n",
    "mask[np.triu_indices_from(mask)] = True\n",
    "\n",
    "# Set up the matplotlib figure\n",
    "f, ax = plt.subplots(figsize=(11, 9))\n",
    "\n",
    "# Generate a custom diverging colormap\n",
    "cmap = sns.diverging_palette(220, 10, as_cmap=True)\n",
    "\n",
    "# Draw the heatmap with the mask and correct aspect ratio\n",
    "sns.heatmap(corr, mask=mask, cmap=cmap, vmax=.3, center=0,\n",
    "            square=True, linewidths=.5, cbar_kws={\"shrink\": .5})\n",
    "plt.show()"
   ]
  },
  {
   "cell_type": "code",
   "execution_count": null,
   "metadata": {
    "hidden": true
   },
   "outputs": [],
   "source": []
  },
  {
   "cell_type": "markdown",
   "metadata": {
    "heading_collapsed": true
   },
   "source": [
    "# test Sharepoint"
   ]
  },
  {
   "cell_type": "code",
   "execution_count": null,
   "metadata": {
    "hidden": true
   },
   "outputs": [],
   "source": [
    "import configparser\n",
    "path = \"../../../__data/\"\n",
    "config_file = \"_config.ini\"\n",
    "config = configparser.ConfigParser()"
   ]
  },
  {
   "cell_type": "code",
   "execution_count": 2,
   "metadata": {
    "hidden": true
   },
   "outputs": [
    {
     "ename": "NameError",
     "evalue": "name 'AuthenticationContext' is not defined",
     "output_type": "error",
     "traceback": [
      "\u001b[1;31m---------------------------------------------------------------------------\u001b[0m",
      "\u001b[1;31mNameError\u001b[0m                                 Traceback (most recent call last)",
      "\u001b[1;32m<ipython-input-2-b5618e24efa7>\u001b[0m in \u001b[0;36m<module>\u001b[1;34m\u001b[0m\n\u001b[0;32m      5\u001b[0m }\n\u001b[0;32m      6\u001b[0m \u001b[1;33m\u001b[0m\u001b[0m\n\u001b[1;32m----> 7\u001b[1;33m \u001b[0mcontext_auth\u001b[0m \u001b[1;33m=\u001b[0m \u001b[0mAuthenticationContext\u001b[0m\u001b[1;33m(\u001b[0m\u001b[0murl\u001b[0m\u001b[1;33m=\u001b[0m\u001b[0msite_url\u001b[0m\u001b[1;33m)\u001b[0m\u001b[1;33m\u001b[0m\u001b[1;33m\u001b[0m\u001b[0m\n\u001b[0m\u001b[0;32m      8\u001b[0m \u001b[0mcontext_auth\u001b[0m\u001b[1;33m.\u001b[0m\u001b[0macquire_token_for_app\u001b[0m\u001b[1;33m(\u001b[0m\u001b[0mclient_id\u001b[0m\u001b[1;33m=\u001b[0m\u001b[0mapp_principal\u001b[0m\u001b[1;33m[\u001b[0m\u001b[1;34m'client_id'\u001b[0m\u001b[1;33m]\u001b[0m\u001b[1;33m,\u001b[0m \u001b[0mclient_secret\u001b[0m\u001b[1;33m=\u001b[0m\u001b[0mapp_principal\u001b[0m\u001b[1;33m[\u001b[0m\u001b[1;34m'client_secret'\u001b[0m\u001b[1;33m]\u001b[0m\u001b[1;33m)\u001b[0m\u001b[1;33m\u001b[0m\u001b[1;33m\u001b[0m\u001b[0m\n\u001b[0;32m      9\u001b[0m \u001b[1;33m\u001b[0m\u001b[0m\n",
      "\u001b[1;31mNameError\u001b[0m: name 'AuthenticationContext' is not defined"
     ]
    }
   ],
   "source": [
    "site_url = 'https://ccc.sharepoint.com/'\n",
    "app_principal = {\n",
    "     'client_id': '--client-id-goes-here--',\n",
    "     'client_secret': '--client-secret-goes-here--',\n",
    "}\n",
    "    \n",
    "context_auth = AuthenticationContext(url=site_url)\n",
    "context_auth.acquire_token_for_app(client_id=app_principal['client_id'], client_secret=app_principal['client_secret'])\n",
    "    \n",
    "ctx = ClientContext(site_url, context_auth)\n",
    "web = ctx.web\n",
    "ctx.load(web)\n",
    "ctx.execute_query()\n",
    "print(\"Web site title: {0}\".format(web.properties['Title']))"
   ]
  },
  {
   "cell_type": "markdown",
   "metadata": {
    "hidden": true
   },
   "source": [
    "## SH"
   ]
  },
  {
   "cell_type": "code",
   "execution_count": null,
   "metadata": {
    "hidden": true
   },
   "outputs": [],
   "source": [
    "import requests\n",
    "import json\n",
    "# from requests.auth import HTTPBasicAuth\n",
    "# from requests_ntlm import HttpNtlmAuth\n",
    "# import getpass\n",
    "\n",
    "# ITEMS = \"http://mysite.corp/site/subsitename/_api/lists/getbytitle('ESD repository')/items\"\n",
    "# SITE = \"http://http://mysite.corp/site/subsitename/_api/web/getfilebyserverrelativeurl('/')\"\n",
    "#USER_FOLDERS= \"http://mysite.corp/site/subsitename/_api/web/getfolderbyserverrelativeurl('/site/subsitename/Documents')/Folders\"\n",
    "\n",
    "# MYDOC_REPOSITORY = \"http://mysite.corp/site/subsitename/_api/web/getfolderbyserverrelativeurl('/site/subsitename/Documents')\"\n",
    "# USERNAME = \"mydomain\\\\mylogin\"\n",
    "# PASSWORD = getpass.getpass('Password for '+USERNAME+':')\n",
    "# PASSWORD = \"test\"\n",
    "\n",
    "def get_token(): \n",
    "    \n",
    "\n",
    "\n",
    "def get_json_ntlm(query):\n",
    "    headers = {'accept': 'application/json;odata=verbose'}\n",
    "    r = requests.get(query, auth=HttpNtlmAuth(USERNAME,PASSWORD), headers=headers)\n",
    "    return r\n",
    "\n",
    "# display json in human readable format\n",
    "def pp_json(json_thing, sort=True, indents=4):\n",
    "    if type(json_thing) is str:\n",
    "        print(json.dumps(json.loads(json_thing), sort_keys=sort, indent=indents))\n",
    "    else:\n",
    "        print(json.dumps(json_thing, sort_keys=sort, indent=indents))\n",
    "    return None\n",
    "\n",
    "\n",
    "def print_files_recursivelly(folderURI):\n",
    "    # get current folder as json\n",
    "    folderJson = get_json_ntlm(folderURI).json()\n",
    "    # gets the URI that describes the files of this folder\n",
    "    filesURI = folderJson[\"d\"][\"Files\"][\"__deferred\"][\"uri\"]\n",
    "    print_files_detail(filesURI)\n",
    "    # Continue on subfolders\n",
    "    subURI = folderJson[\"d\"][\"Folders\"][\"__deferred\"][\"uri\"]\n",
    "    subfolders = get_json_ntlm(subURI).json()\n",
    "    for sub in subfolders[\"d\"][\"results\"]:\n",
    "        print_files_recursivelly (sub[\"__metadata\"][\"uri\"])\n",
    "    return None\n",
    "\n",
    "def print_files_detail(filesURI):\n",
    "    files = get_json_ntlm(filesURI).json()\n",
    "    for afile in files[\"d\"][\"results\"]:\n",
    "        print(afile[\"Name\"]+ \";\"+ afile[\"ServerRelativeUrl\"]+\";\"+ afile[\"Length\"] +\";\"+ afile[\"TimeCreated\"] +\";\"+ afile[\"TimeLastModified\"] +\";\")\n",
    "    return None\n",
    "\n",
    "def print_folder_detail(folderJson):\n",
    "    # print it's name and relative URL\n",
    "    print ( \"{0} ({1} child(s))\".format(folderJson[\"d\"][\"ServerRelativeUrl\"], folderJson[\"d\"][\"ItemCount\"]))\n",
    "    return None\n",
    "\n",
    "def print_folder_hierarchy(folderURI):\n",
    "    # get the folder as json\n",
    "    folderJson = get_json_ntlm(folderURI).json()\n",
    "    print_folder_detail(folderJson)\n",
    "    # gets children files\n",
    "    # filesURI = folderJsonRes[\"d\"][\"Files\"][\"__deferred\"][\"uri\"]\n",
    "    # print_files_detail(filesURI)\n",
    "    # get subfolders uri\n",
    "    subURI = folderJson[\"d\"][\"Folders\"][\"__deferred\"][\"uri\"]\n",
    "    subfolders = get_json_ntlm(subURI).json()\n",
    "    for sub in subfolders[\"d\"][\"results\"]:\n",
    "        print_folder_hierarchy (sub[\"__metadata\"][\"uri\"])\n",
    "    return None\n",
    "\n",
    "print_folder_hierarchy(MYDOC_REPOSITORY)\n",
    "print(\"-------------------------------------------------\")\n",
    "print_files_recursivelly(MYDOC_REPOSITORY)"
   ]
  },
  {
   "cell_type": "code",
   "execution_count": null,
   "metadata": {
    "hidden": true
   },
   "outputs": [],
   "source": []
  },
  {
   "cell_type": "markdown",
   "metadata": {
    "heading_collapsed": true,
    "hidden": true
   },
   "source": [
    "## oath2"
   ]
  },
  {
   "cell_type": "code",
   "execution_count": 13,
   "metadata": {
    "hidden": true
   },
   "outputs": [
    {
     "name": "stdout",
     "output_type": "stream",
     "text": [
      "https://schindlerglobal.sharepoint.com\n"
     ]
    }
   ],
   "source": [
    "auth = config[\"Sharepoint\"]\n",
    "print(auth[\"URL\"])"
   ]
  },
  {
   "cell_type": "code",
   "execution_count": null,
   "metadata": {
    "hidden": true
   },
   "outputs": [],
   "source": [
    "class ExampleOAuth2Client:\n",
    "    def __init__(self, client_id, client_secret):\n",
    "        self.access_token = None\n",
    "\n",
    "        self.service = OAuth2Service(\n",
    "            name=\"foo\",\n",
    "            client_id=client_id,\n",
    "            client_secret=client_secret,\n",
    "            access_token_url=\"http://api.example.com/oauth/access_token\",\n",
    "            authorize_url=\"http://api.example.com/oauth/access_token\",\n",
    "            base_url=\"http://api.example.com/\",\n",
    "        )\n",
    "\n",
    "        self.get_access_token()\n",
    "\n",
    "    def get_access_token(self):\n",
    "        data = {'code': 'bar',\n",
    "                'grant_type': 'client_credentials',\n",
    "                'redirect_uri': 'http://example.com/'}\n",
    "\n",
    "        session = self.service.get_auth_session(data=data, decoder=json.loads)\n",
    "\n",
    "        self.access_token = session.access_token\n",
    "\n",
    "# test"
   ]
  },
  {
   "cell_type": "code",
   "execution_count": 15,
   "metadata": {
    "hidden": true
   },
   "outputs": [],
   "source": [
    "import requests\n",
    "import requests.auth\n",
    "\n",
    "CLIENT_ID = str(auth[\"client_id\"])\n",
    "CLIENT_SECRET = str(auth[\"client_secret\"])\n",
    "TOKEN_URL = \"https://login.microsoftonline.com/\" + str(auth[\"tenant\"]) + \"/oauth2/token\"\n",
    "REDIRECT_URI = str(auth[\"URL\"])\n",
    "\n",
    "def get_token():\n",
    "    client_auth = requests.auth.HTTPBasicAuth(CLIENT_ID, CLIENT_SECRET)\n",
    "    post_data = {\"grant_type\": \"client_credentials\",\n",
    "#                  \"code\": code,\n",
    "                 \"resource\" : REDIRECT_URI,\n",
    "                 \"redirect_uri\": REDIRECT_URI}\n",
    "    response = requests.post(TOKEN_URL,\n",
    "                             auth=client_auth,\n",
    "                             data=post_data)\n",
    "    token_json = response.json()\n",
    "    return token_json[\"access_token\"]\n",
    "\n",
    "# print(get_token())"
   ]
  },
  {
   "cell_type": "code",
   "execution_count": null,
   "metadata": {
    "hidden": true
   },
   "outputs": [],
   "source": []
  },
  {
   "cell_type": "markdown",
   "metadata": {
    "hidden": true
   },
   "source": [
    "## office365.runtime\n",
    "https://pypi.org/project/Office365-REST-Python-Client/"
   ]
  },
  {
   "cell_type": "code",
   "execution_count": null,
   "metadata": {
    "hidden": true
   },
   "outputs": [],
   "source": [
    "from office365.runtime.auth.user_credential import UserCredential\n",
    "from office365.sharepoint.client_context import ClientContext\n",
    "\n",
    "# site_url = \"https://{your-tenant-prefix}.sharepoint.com\"\n",
    "site_url = str(auth[\"URL\"])\n",
    "\n",
    "# ctx = ClientContext(site_url).with_credentials(UserCredential(\"{username}\", \"{password}\"))\n",
    "auth = AuthenticationContext.ctx_auth.acquire_token_for_app(str(auth[\"client_id\"]), str(auth[\"client_secret\"]))\n",
    "\n",
    "ctx = ClientContext(site_url).with_credentials(UserCredential(\"{username}\", \"{password}\"))\n",
    "\n",
    "# web = ctx.web\n",
    "# ctx.load(web)\n",
    "# ctx.execute_query()\n",
    "# print(\"Web title: {0}\".format(web.properties['Title']))"
   ]
  },
  {
   "cell_type": "code",
   "execution_count": null,
   "metadata": {
    "hidden": true
   },
   "outputs": [],
   "source": []
  },
  {
   "cell_type": "markdown",
   "metadata": {
    "heading_collapsed": true,
    "hidden": true
   },
   "source": [
    "## configparser"
   ]
  },
  {
   "cell_type": "code",
   "execution_count": 8,
   "metadata": {
    "hidden": true
   },
   "outputs": [
    {
     "name": "stdout",
     "output_type": "stream",
     "text": [
      "['bitbucket.org', 'topsecret.server.com']\n",
      "hg\n",
      "hg\n",
      "no\n",
      "no\n",
      "user\n",
      "serveraliveinterval\n",
      "compression\n",
      "compressionlevel\n",
      "forwardx11\n",
      "yes\n"
     ]
    }
   ],
   "source": [
    "import configparser\n",
    "path = \"./assets/\"\n",
    "config_file = \"_config.ini\"\n",
    "\n",
    "config = configparser.ConfigParser()\n",
    "config.read(path + config_file)\n",
    "\n",
    "# test --------------------------------------\n",
    "test = config.sections()\n",
    "# ['bitbucket.org', 'topsecret.server.com']\n",
    "print(test)\n",
    "test = config['bitbucket.org']['User']\n",
    "# 'hg'\n",
    "print(test)\n",
    "# 'yes'\n",
    "print(test)\n",
    "topsecret = config['topsecret.server.com']\n",
    "test = topsecret['ForwardX11']\n",
    "# 'no'\n",
    "print(test)\n",
    "topsecret['Port']\n",
    "# '50022'\n",
    "print(test)\n",
    "\n",
    "for key in config['bitbucket.org']:  \n",
    "    print(key)\n",
    "\n",
    "test = config['DEFAULT']\n",
    "print(test['Compression'])\n"
   ]
  },
  {
   "cell_type": "code",
   "execution_count": null,
   "metadata": {
    "hidden": true
   },
   "outputs": [],
   "source": []
  },
  {
   "cell_type": "markdown",
   "metadata": {
    "heading_collapsed": true
   },
   "source": [
    "# ODBC connector "
   ]
  },
  {
   "cell_type": "code",
   "execution_count": 3,
   "metadata": {
    "hidden": true
   },
   "outputs": [],
   "source": [
    "import pyodbc "
   ]
  },
  {
   "cell_type": "code",
   "execution_count": null,
   "metadata": {
    "hidden": true
   },
   "outputs": [],
   "source": [
    "cnxn = pyodbc.connect('DRIVER={Devart ODBC Driver for SQLite};Direct=True;Database=mydatabase')"
   ]
  },
  {
   "cell_type": "code",
   "execution_count": null,
   "metadata": {
    "hidden": true
   },
   "outputs": [],
   "source": [
    "cursor = cnxn.cursor()  \n",
    "cursor.execute(\"INSERT INTO EMP (EMPNO, ENAME, JOB, MGR) VALUES (535, 'Scott', 'Manager', 545)\")"
   ]
  },
  {
   "cell_type": "code",
   "execution_count": null,
   "metadata": {
    "hidden": true
   },
   "outputs": [],
   "source": [
    "cursor.execute(\"SELECT * FROM EMP\")\n",
    "row = cursor.fetchone() \n",
    "while row: \n",
    "    print (row)\n",
    "    row = cursor.fetchone() "
   ]
  },
  {
   "cell_type": "code",
   "execution_count": 6,
   "metadata": {
    "hidden": true
   },
   "outputs": [],
   "source": [
    "# conn = pyodbc.connect(\"DRIVER={Lotus NotesSQL Driver};SERVER=localhost;UID=JohnMeyer;PWD=yellowbird;DATABASE=mydb.nsf\")\n",
    "# PyODBC worked final at the end of the day. Just cant use alias for the odbc database. \n",
    "# When using the real database name, it works nicely. – ThreaderSlash Nov 23 '09 at 5:12\n"
   ]
  },
  {
   "cell_type": "code",
   "execution_count": null,
   "metadata": {
    "hidden": true
   },
   "outputs": [],
   "source": []
  },
  {
   "cell_type": "markdown",
   "metadata": {
    "heading_collapsed": true
   },
   "source": [
    "# MS SQL "
   ]
  },
  {
   "cell_type": "code",
   "execution_count": null,
   "metadata": {
    "hidden": true
   },
   "outputs": [],
   "source": [
    "import mysql.connector\n",
    "import MySQLdb\n",
    "import json\n",
    "import pyodbc \n",
    "import pandas as pd "
   ]
  },
  {
   "cell_type": "code",
   "execution_count": null,
   "metadata": {
    "hidden": true
   },
   "outputs": [],
   "source": [
    "a_c = [{ \"h\": \"host1.com\" , \"u\" : \"user\",   \"p\":\"***\" , \"n\": \"host1\"},\n",
    "       { \"h\": \"host2.com\" , \"u\" : \"user\",   \"p\":\"***\" , \"n\": \"host2\"} ]\n",
    "db = 'DB'"
   ]
  },
  {
   "cell_type": "code",
   "execution_count": null,
   "metadata": {
    "hidden": true
   },
   "outputs": [],
   "source": [
    "l_sqli = 1"
   ]
  },
  {
   "cell_type": "code",
   "execution_count": null,
   "metadata": {
    "hidden": true
   },
   "outputs": [],
   "source": [
    "def QU_EX(query, sys = 0 ):\n",
    "    l_rmph = a_c[sys][\"h\"] \n",
    "    l_rmpu = a_c[sys][\"u\"]\n",
    "    l_rmpp = a_c[sys][\"p\"]\n",
    "    l_rmpn = a_c[sys][\"n\"]\n",
    "    l_sqldb = \"DB\"\n",
    "    # cnxn = pyodbc.connect(\"Driver={SQL Server};Server=serverName;UID=UserName;PWD=Password;Database=RCO_DW;\")\n",
    "    cnxn = pyodbc.connect(\"Driver={SQL Server Native Client 11.0};\"\n",
    "                      \"Server=\" + l_rmph + \";\"\n",
    "                      \"UID=\" + l_rmpu + \";\"\n",
    "                      \"PWD=\" + l_rmpp + \";\"\n",
    "                      \"Database=\" + db + \";\"\n",
    "                      \"Trusted_Connection=no;\")\n",
    "    print(query)\n",
    "    cursor = cnxn.cursor()\n",
    "    cursor.execute(query)\n",
    "    arow = []\n",
    "    for row in cursor:\n",
    "        arow.append(row)\n",
    "        #print('row = %r' % (row,))\n",
    "    print( len(arow) ) \n",
    "    return arow"
   ]
  },
  {
   "cell_type": "code",
   "execution_count": null,
   "metadata": {
    "hidden": true
   },
   "outputs": [],
   "source": [
    "def DL_MinMax ( sch, tab, fkey, sys = 0 ):\n",
    "    q_ex = \"SELECT MIN( \" + fkey + \" ), MAX( \" + fkey + \" ) \"\n",
    "    q_ex = q_ex +  \" FROM \" + sch + \".\" + tab   \n",
    "    a_rows = QU_EX( q_ex, sys )\n",
    "    return a_rows"
   ]
  },
  {
   "cell_type": "code",
   "execution_count": null,
   "metadata": {
    "hidden": true
   },
   "outputs": [],
   "source": [
    "a_mm = DL_MinMax(\"schema\", \"T_table\", \"T_ID\" , 1  )\n",
    "print(\"min = {:5} / max = {:,} \".format(a_mm[0][0], a_mm[0][1] ) )"
   ]
  },
  {
   "cell_type": "code",
   "execution_count": null,
   "metadata": {
    "hidden": true
   },
   "outputs": [],
   "source": []
  },
  {
   "cell_type": "markdown",
   "metadata": {
    "heading_collapsed": true
   },
   "source": [
    "# HANA DB"
   ]
  },
  {
   "cell_type": "code",
   "execution_count": null,
   "metadata": {
    "hidden": true
   },
   "outputs": [],
   "source": [
    "import pyhdb\n",
    "import pandas as pd\n",
    "from hdbcli import dbapi"
   ]
  },
  {
   "cell_type": "code",
   "execution_count": null,
   "metadata": {
    "hidden": true
   },
   "outputs": [],
   "source": [
    "query = \"SELECT TOP 1000 * FROM EHS.KG\"\n",
    "\n",
    "#connection = pyhdb.connect('localhost', 30015, 'username', 'password')\n",
    "connection = pyhdb.connect('tenant.hana.ondemand.com', 30015, 'user', '**') #multiple containers\"\n",
    "cursor = connection.cursor()\n",
    "#cursor.execute(\"SELECT top 20 DATE, HIGH FROM SAP_HANA_DEMO.NIFTY_50_DATA\")\n",
    "cursor.execute(\"SELECT TOP 1000 * FROM SCH.TB\")\n",
    "a = cursor.fetchall()\n",
    "data = pd.DataFrame(a)\n"
   ]
  },
  {
   "cell_type": "code",
   "execution_count": null,
   "metadata": {
    "hidden": true
   },
   "outputs": [],
   "source": []
  },
  {
   "cell_type": "markdown",
   "metadata": {},
   "source": [
    "# ODATA RQ"
   ]
  },
  {
   "cell_type": "code",
   "execution_count": 39,
   "metadata": {},
   "outputs": [],
   "source": [
    "# import http.client\n",
    "import requests\n",
    "import json\n",
    "import xml.etree.ElementTree as ET\n",
    "import time\n",
    "import re\n",
    "from datetime import datetime\n",
    "import pandas as pd\n",
    "\n",
    "# from getpass import getpass\n",
    "# >>> requests.get('https://api.github.com/user', auth=('username', getpass()))\n",
    "from requests.auth import HTTPBasicAuth"
   ]
  },
  {
   "cell_type": "code",
   "execution_count": 66,
   "metadata": {},
   "outputs": [],
   "source": [
    "#  Northwind\n",
    "# https://services.odata.org/V2/Northwind/Northwind.svc/\n",
    "l_url = 'Northwind'\n",
    "l_url = 'https://services.odata.org/V2/Northwind/Northwind.svc/'\n",
    "\n",
    "params = [{ \"h\": l_url , \"u\" : \"user\",   \"p\":\"***\" , \"e\": \"\", \"f\" : \"\" , \"es\":\"\"   },\n",
    "          { \"h\": l_url , \"u\" : \"user\",   \"p\":\"***\" , \"e\": \"/Products\", \"f\": \"?$format=json\", \"es\": \"x\" },\n",
    "          { \"h\": l_url , \"u\" : \"user\",   \"p\":\"***\" , \"e\": \"/Products(1)\", \"f\": \"?$format=json\", \"es\": \"\" },\n",
    "          {}]\n"
   ]
  },
  {
   "cell_type": "code",
   "execution_count": 67,
   "metadata": {
    "code_folding": []
   },
   "outputs": [],
   "source": [
    "######################################################################################################\n",
    "######################################################################################################\n",
    "######################################################################################################\n",
    "def WS_CALL( par ): \n",
    "######################################################################################################    \n",
    "######################################################################################################\n",
    "######################################################################################################\n",
    "    querystring = '' #param\n",
    "    url = par[\"h\"] +  par[\"e\"] +  par[\"f\"] \n",
    "\n",
    "    print(url)\n",
    "    #print(param)\n",
    "    payload = ''    \n",
    "    headers = { 'Content-Type': \"application/json\", 'cache-control': \"no-cache\"    }\n",
    "    response = requests.request(\"GET\", url , data=payload, params=querystring , headers=headers,  \n",
    "                                        #auth=HTTPBasicAuth( par[\"u\"] ,par[\"p\"]  ) , \n",
    "                                        verify=False)\n",
    "    \n",
    "    if(response.status_code == 200): \n",
    "        print(\"success\")\n",
    "        #print(response.text)\n",
    "        #print(len(response.text) )\n",
    "        #return response.text\n",
    "        try:\n",
    "            jj = json.loads(response.text)\n",
    "        except: \n",
    "            return response.text\n",
    "        \n",
    "        if( par[\"es\"] == \"x\"):\n",
    "            print( \"count: {}\".format(len( jj[\"d\"][\"results\"]   )))\n",
    "        else: \n",
    "            print( \"count: 1\")       \n",
    "        return jj\n",
    "    \n",
    "    \n",
    "    else: \n",
    "        print( \"error: \" + str(response.text) )\n",
    "        return ''"
   ]
  },
  {
   "cell_type": "code",
   "execution_count": 82,
   "metadata": {},
   "outputs": [],
   "source": [
    "# g_fields   = \"\"\n",
    "# g_columns  = []\n",
    "# g_pages    = \"\"\n",
    "\n",
    "def odatacProduct( par ): \n",
    "#     global g_fields   \n",
    "#     global g_columns  \n",
    "#     global g_pages    \n",
    "#     global g_count    \n",
    "#     global g_bm    \n",
    "#     g_fields   = \"\"\n",
    "#     g_columns  = []\n",
    "#     g_pages    = \"\"\n",
    "    \n",
    "    data = WS_CALL( par )\n",
    "    \n",
    "#     if type(json_o) == str: \n",
    "#         return data\n",
    "    \n",
    "    p_id   =  data[\"d\"][\"ProductID\"]  \n",
    "    p_pn   =  data[\"d\"][\"ProductName\"] \n",
    "    p_us   =  data[\"d\"][\"UnitsInStock\"]  \n",
    "    p_rl   =  data[\"d\"][\"ReorderLevel\"]  \n",
    "    #print(\"pages={0:,}, total={0:,}; block_size={0:,}\".format(g_pages,g_count, g_bm  ))\n",
    "    #print(\"pages={}, total={}; block_size={}\".format(g_pages,g_count, g_bm  ))\n",
    "    print(\"p_id={0:,}, {3}. UnitsInStock={1:,}; ReorderLevel={2:,}\".format(int(p_id),int(p_us),int(p_rl),p_pn  ))\n",
    "\n",
    "    \n",
    "    try:\n",
    "        g_fields = json.loads(g_fields)\n",
    "    except: \n",
    "        return data\n",
    "    \n",
    "    #data[\"d\"][\"FIELDS\"] = \"\"\n",
    "    #print(data[\"d\"])\n",
    "    #return data\n",
    "    \n",
    "#     for col in range(len(g_fields[\"fields\"])): \n",
    "#         g_columns.append(g_fields[\"fields\"][col][\"N\"]) \n",
    "#     print(\"number of columns = \" + str(len(g_columns)))\n",
    "    return data\n",
    "    \n",
    "def odatacProducts( par ): \n",
    "    data =  WS_CALL( par )\n",
    "    l_i = len(data[\"d\"][\"results\"]) \n",
    "    a_lines = []\n",
    "           \n",
    "#     try:\n",
    "    if  l_i > 0 : \n",
    "        #for i in range(2):\n",
    "        for i in range(l_i):\n",
    "            #print(data[\"d\"][\"results\"][i][\"TBLOUT_STR\"])\n",
    "            line = data[\"d\"][\"results\"][i][\"ProductID\"]#.split('|;|')\n",
    "            a_lines.append(line) \n",
    "            #print(len(line))\n",
    "            #print(line)\n",
    "        #print(a_lines)\n",
    "        #dft = pd.DataFrame(a_lines, columns=g_columns)\n",
    "        #df.append(dft)\n",
    "        #df = df.append(dft, ignore_index = True) \n",
    "#     except: \n",
    "#         print('error happened in dataframe construction')\n",
    "#         return data\n",
    "\n",
    "    print(a_lines)\n",
    "    return a_lines   "
   ]
  },
  {
   "cell_type": "code",
   "execution_count": 83,
   "metadata": {},
   "outputs": [
    {
     "name": "stdout",
     "output_type": "stream",
     "text": [
      "https://services.odata.org/V2/Northwind/Northwind.svc//Products?$format=json\n"
     ]
    },
    {
     "name": "stderr",
     "output_type": "stream",
     "text": [
      "C:\\Users\\velatida\\AppData\\Local\\Continuum\\miniconda3\\lib\\site-packages\\urllib3\\connectionpool.py:847: InsecureRequestWarning: Unverified HTTPS request is being made. Adding certificate verification is strongly advised. See: https://urllib3.readthedocs.io/en/latest/advanced-usage.html#ssl-warnings\n",
      "  InsecureRequestWarning)\n"
     ]
    },
    {
     "name": "stdout",
     "output_type": "stream",
     "text": [
      "success\n",
      "count: 20\n",
      "[1, 2, 3, 4, 5, 6, 7, 8, 9, 10, 11, 12, 13, 14, 15, 16, 17, 18, 19, 20]\n",
      "Execution time: 0.8541586399078369 seconds\n",
      "Execution time: 0.014235977331797283 minutes\n"
     ]
    }
   ],
   "source": [
    "start_time = time.time()\n",
    "# json_o = ''\n",
    "\n",
    "# json_o = WS_CALL( params[1] ) \n",
    "a_lines = odatacProducts( params[1] ) \n",
    "# json_o = odatacProduct( params[2] ) \n",
    "\n",
    "# df = pd.DataFrame( columns=g_columns)\n",
    "\n",
    "end_time = time.time()\n",
    "l_time = end_time-start_time\n",
    "print(\"Execution time: {} seconds\".format(l_time))\n",
    "print(\"Execution time: {} minutes\".format(l_time/60))\n",
    "\n",
    "#print json \n",
    "# print(json_o)\n",
    "# SaveJSON(json_o,  \"new\")"
   ]
  },
  {
   "cell_type": "markdown",
   "metadata": {
    "heading_collapsed": true
   },
   "source": [
    "## pyodata"
   ]
  },
  {
   "cell_type": "code",
   "execution_count": 11,
   "metadata": {
    "hidden": true
   },
   "outputs": [],
   "source": [
    "from pyslet.odata2.client import Client"
   ]
  },
  {
   "cell_type": "code",
   "execution_count": 12,
   "metadata": {
    "hidden": true
   },
   "outputs": [],
   "source": [
    "class index:\n",
    "    def GET(self):\n",
    "        c=Client(\"http://services.odata.org/V2/Northwind/Northwind.svc/\")\n",
    "        products=c.feeds['Products'].OpenCollection()\n",
    "        productNames = []\n",
    "        for k,p in products.iteritems():\n",
    "            productNames.append(p['ProductName'].value)\n",
    "            web.header('Content-Type', 'text/html')\n",
    "        return render_template('index.html', products = productNames)"
   ]
  },
  {
   "cell_type": "code",
   "execution_count": 17,
   "metadata": {
    "hidden": true
   },
   "outputs": [],
   "source": [
    "# import requests\n",
    "# import pyodata\n",
    "\n",
    "# SERVICE_URL = 'http://services.odata.org/V2/Northwind/Northwind.svc/'\n",
    "\n",
    "# # Create instance of OData client\n",
    "# client = pyodata.Client(SERVICE_URL, requests.Session())\n",
    "# client.entity_sets.Products.get_entities().execute()"
   ]
  },
  {
   "cell_type": "code",
   "execution_count": 18,
   "metadata": {
    "hidden": true
   },
   "outputs": [],
   "source": [
    "# import pyodata\n",
    "# import requests\n",
    "# SERVICE_URL = 'http://services.odata.org/V2/Northwind/Northwind.svc/'\n",
    "# HTTP_LIB = requests.Session()\n",
    "# northwind = pyodata.Client(SERVICE_URL, HTTP_LIB)\n",
    "# for customer in northwind.entity_sets.Customers.get_entities().execute():\n",
    "#     print(customer.CustomerID, customer.CompanyName)"
   ]
  },
  {
   "cell_type": "code",
   "execution_count": null,
   "metadata": {
    "hidden": true
   },
   "outputs": [],
   "source": []
  },
  {
   "cell_type": "code",
   "execution_count": null,
   "metadata": {
    "hidden": true
   },
   "outputs": [],
   "source": []
  },
  {
   "cell_type": "code",
   "execution_count": null,
   "metadata": {
    "hidden": true
   },
   "outputs": [],
   "source": []
  },
  {
   "cell_type": "markdown",
   "metadata": {
    "heading_collapsed": true
   },
   "source": [
    "# COLORS"
   ]
  },
  {
   "cell_type": "code",
   "execution_count": 4,
   "metadata": {
    "hidden": true
   },
   "outputs": [],
   "source": [
    "import sys\n",
    "import os\n",
    "if sys.platform.lower() == \"win32\":\n",
    "    os.system('color')\n",
    "#Formatting\n",
    "HEADER = lambda x: print('\\033[94m' + str(x) + '\\033[0m')\n",
    "PASS = lambda x: print('\\033[92m' + str(x) + '\\033[0m')\n",
    "WARNING = lambda x: print('\\033[93m' + str(x) + '\\033[0m')\n",
    "FAIL = lambda x: print('\\033[91m' + str(x) + '\\033[0m')\n",
    "TESTCASE = lambda x: print('\\033[94m' + \"\\n=================================\\n\" + str(x) + \"\\n=================================\" + '\\033[0m')\n",
    "ENDC = '\\033[0m'\n",
    "BOLD = '\\033[1m'\n",
    "UNDERLINE = '\\033[4m'"
   ]
  },
  {
   "cell_type": "code",
   "execution_count": 5,
   "metadata": {
    "hidden": true
   },
   "outputs": [
    {
     "name": "stdout",
     "output_type": "stream",
     "text": [
      "hello\n",
      "\u001b[94mhello\u001b[0m\n",
      "\u001b[92mHello\u001b[0m\n",
      "\u001b[93mHello\u001b[0m\n",
      "\u001b[91mHello\u001b[0m\n",
      "\u001b[94m\n",
      "=================================\n",
      "Hello\n",
      "=================================\u001b[0m\n",
      "\u001b[0mHELLO\u001b[0m\n",
      "\u001b[1mHELLO\u001b[1m\n",
      "\u001b[4mHELLO\u001b[4m\n",
      "\u001b[4mHELLO\u001b[4m\n"
     ]
    }
   ],
   "source": [
    "print(\"hello\")\n",
    "HEADER(\"hello\")\n",
    "PASS(\"Hello\")\n",
    "WARNING(\"Hello\")\n",
    "FAIL(\"Hello\")\n",
    "TESTCASE(\"Hello\")\n",
    "print(ENDC + \"HELLO\" + ENDC  )\n",
    "print(BOLD + \"HELLO\" + BOLD  )\n",
    "print(UNDERLINE + \"HELLO\" + UNDERLINE  )\n",
    "print(UNDERLINE + \"HELLO\" + UNDERLINE  )\n"
   ]
  },
  {
   "cell_type": "code",
   "execution_count": null,
   "metadata": {
    "hidden": true
   },
   "outputs": [],
   "source": []
  },
  {
   "cell_type": "markdown",
   "metadata": {},
   "source": [
    "# end"
   ]
  },
  {
   "cell_type": "code",
   "execution_count": null,
   "metadata": {},
   "outputs": [],
   "source": []
  }
 ],
 "metadata": {
  "kernelspec": {
   "display_name": "Python 3",
   "language": "python",
   "name": "python3"
  },
  "language_info": {
   "codemirror_mode": {
    "name": "ipython",
    "version": 3
   },
   "file_extension": ".py",
   "mimetype": "text/x-python",
   "name": "python",
   "nbconvert_exporter": "python",
   "pygments_lexer": "ipython3",
   "version": "3.7.3"
  }
 },
 "nbformat": 4,
 "nbformat_minor": 4
}
