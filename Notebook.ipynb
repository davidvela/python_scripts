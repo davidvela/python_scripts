{
 "cells": [
  {
   "cell_type": "markdown",
   "metadata": {},
   "source": [
    "# Notebook"
   ]
  },
  {
   "cell_type": "code",
   "execution_count": 12,
   "metadata": {},
   "outputs": [
    {
     "data": {
      "text/plain": [
       "['../../../__data/_config.ini']"
      ]
     },
     "execution_count": 12,
     "metadata": {},
     "output_type": "execute_result"
    }
   ],
   "source": [
    "import configparser\n",
    "\n",
    "path = \"../../../__data/\"\n",
    "config_file = \"_config.ini\"\n",
    "\n",
    "config = configparser.ConfigParser()\n",
    "config.read(path + config_file)\n",
    "# print( config[\"topsecret.server.com\"]['Port'])"
   ]
  },
  {
   "cell_type": "code",
   "execution_count": null,
   "metadata": {},
   "outputs": [],
   "source": [
    "site_url = 'https://contoso.sharepoint.com/'\n",
    "app_principal = {\n",
    "     'client_id': '--client-id-goes-here--',\n",
    "     'client_secret': '--client-secret-goes-here--',\n",
    "}\n",
    "    \n",
    "context_auth = AuthenticationContext(url=site_url)\n",
    "context_auth.acquire_token_for_app(client_id=app_principal['client_id'], client_secret=app_principal['client_secret'])\n",
    "    \n",
    "ctx = ClientContext(site_url, context_auth)\n",
    "web = ctx.web\n",
    "ctx.load(web)\n",
    "ctx.execute_query()\n",
    "print(\"Web site title: {0}\".format(web.properties['Title']))"
   ]
  },
  {
   "cell_type": "code",
   "execution_count": null,
   "metadata": {},
   "outputs": [],
   "source": []
  },
  {
   "cell_type": "code",
   "execution_count": 1,
   "metadata": {},
   "outputs": [
    {
     "name": "stdout",
     "output_type": "stream",
     "text": [
      "test Notebook\n"
     ]
    }
   ],
   "source": [
    "print(\"test Notebook\")"
   ]
  },
  {
   "cell_type": "code",
   "execution_count": null,
   "metadata": {},
   "outputs": [],
   "source": []
  },
  {
   "cell_type": "code",
   "execution_count": null,
   "metadata": {},
   "outputs": [],
   "source": []
  },
  {
   "cell_type": "markdown",
   "metadata": {},
   "source": [
    "# test"
   ]
  },
  {
   "cell_type": "code",
   "execution_count": null,
   "metadata": {},
   "outputs": [],
   "source": [
    "import configparser\n",
    "path = \"../../../__data/\"\n",
    "config_file = \"_config.ini\"\n",
    "config = configparser.ConfigParser()"
   ]
  },
  {
   "cell_type": "markdown",
   "metadata": {
    "heading_collapsed": true
   },
   "source": [
    "## SH"
   ]
  },
  {
   "cell_type": "code",
   "execution_count": null,
   "metadata": {
    "hidden": true
   },
   "outputs": [],
   "source": [
    "import requests\n",
    "import json\n",
    "# from requests.auth import HTTPBasicAuth\n",
    "# from requests_ntlm import HttpNtlmAuth\n",
    "# import getpass\n",
    "\n",
    "# ITEMS = \"http://mysite.corp/site/subsitename/_api/lists/getbytitle('ESD repository')/items\"\n",
    "# SITE = \"http://http://mysite.corp/site/subsitename/_api/web/getfilebyserverrelativeurl('/')\"\n",
    "#USER_FOLDERS= \"http://mysite.corp/site/subsitename/_api/web/getfolderbyserverrelativeurl('/site/subsitename/Documents')/Folders\"\n",
    "\n",
    "# MYDOC_REPOSITORY = \"http://mysite.corp/site/subsitename/_api/web/getfolderbyserverrelativeurl('/site/subsitename/Documents')\"\n",
    "# USERNAME = \"mydomain\\\\mylogin\"\n",
    "# PASSWORD = getpass.getpass('Password for '+USERNAME+':')\n",
    "# PASSWORD = \"test\"\n",
    "\n",
    "def get_token(): \n",
    "    \n",
    "\n",
    "\n",
    "def get_json_ntlm(query):\n",
    "    headers = {'accept': 'application/json;odata=verbose'}\n",
    "    r = requests.get(query, auth=HttpNtlmAuth(USERNAME,PASSWORD), headers=headers)\n",
    "    return r\n",
    "\n",
    "# display json in human readable format\n",
    "def pp_json(json_thing, sort=True, indents=4):\n",
    "    if type(json_thing) is str:\n",
    "        print(json.dumps(json.loads(json_thing), sort_keys=sort, indent=indents))\n",
    "    else:\n",
    "        print(json.dumps(json_thing, sort_keys=sort, indent=indents))\n",
    "    return None\n",
    "\n",
    "\n",
    "def print_files_recursivelly(folderURI):\n",
    "    # get current folder as json\n",
    "    folderJson = get_json_ntlm(folderURI).json()\n",
    "    # gets the URI that describes the files of this folder\n",
    "    filesURI = folderJson[\"d\"][\"Files\"][\"__deferred\"][\"uri\"]\n",
    "    print_files_detail(filesURI)\n",
    "    # Continue on subfolders\n",
    "    subURI = folderJson[\"d\"][\"Folders\"][\"__deferred\"][\"uri\"]\n",
    "    subfolders = get_json_ntlm(subURI).json()\n",
    "    for sub in subfolders[\"d\"][\"results\"]:\n",
    "        print_files_recursivelly (sub[\"__metadata\"][\"uri\"])\n",
    "    return None\n",
    "\n",
    "def print_files_detail(filesURI):\n",
    "    files = get_json_ntlm(filesURI).json()\n",
    "    for afile in files[\"d\"][\"results\"]:\n",
    "        print(afile[\"Name\"]+ \";\"+ afile[\"ServerRelativeUrl\"]+\";\"+ afile[\"Length\"] +\";\"+ afile[\"TimeCreated\"] +\";\"+ afile[\"TimeLastModified\"] +\";\")\n",
    "    return None\n",
    "\n",
    "def print_folder_detail(folderJson):\n",
    "    # print it's name and relative URL\n",
    "    print ( \"{0} ({1} child(s))\".format(folderJson[\"d\"][\"ServerRelativeUrl\"], folderJson[\"d\"][\"ItemCount\"]))\n",
    "    return None\n",
    "\n",
    "def print_folder_hierarchy(folderURI):\n",
    "    # get the folder as json\n",
    "    folderJson = get_json_ntlm(folderURI).json()\n",
    "    print_folder_detail(folderJson)\n",
    "    # gets children files\n",
    "    # filesURI = folderJsonRes[\"d\"][\"Files\"][\"__deferred\"][\"uri\"]\n",
    "    # print_files_detail(filesURI)\n",
    "    # get subfolders uri\n",
    "    subURI = folderJson[\"d\"][\"Folders\"][\"__deferred\"][\"uri\"]\n",
    "    subfolders = get_json_ntlm(subURI).json()\n",
    "    for sub in subfolders[\"d\"][\"results\"]:\n",
    "        print_folder_hierarchy (sub[\"__metadata\"][\"uri\"])\n",
    "    return None\n",
    "\n",
    "print_folder_hierarchy(MYDOC_REPOSITORY)\n",
    "print(\"-------------------------------------------------\")\n",
    "print_files_recursivelly(MYDOC_REPOSITORY)"
   ]
  },
  {
   "cell_type": "code",
   "execution_count": null,
   "metadata": {
    "hidden": true
   },
   "outputs": [],
   "source": []
  },
  {
   "cell_type": "markdown",
   "metadata": {},
   "source": [
    "## oath2"
   ]
  },
  {
   "cell_type": "code",
   "execution_count": 13,
   "metadata": {},
   "outputs": [
    {
     "name": "stdout",
     "output_type": "stream",
     "text": [
      "https://schindlerglobal.sharepoint.com\n"
     ]
    }
   ],
   "source": [
    "auth = config[\"Sharepoint\"]\n",
    "print(auth[\"URL\"])"
   ]
  },
  {
   "cell_type": "code",
   "execution_count": null,
   "metadata": {},
   "outputs": [],
   "source": [
    "class ExampleOAuth2Client:\n",
    "    def __init__(self, client_id, client_secret):\n",
    "        self.access_token = None\n",
    "\n",
    "        self.service = OAuth2Service(\n",
    "            name=\"foo\",\n",
    "            client_id=client_id,\n",
    "            client_secret=client_secret,\n",
    "            access_token_url=\"http://api.example.com/oauth/access_token\",\n",
    "            authorize_url=\"http://api.example.com/oauth/access_token\",\n",
    "            base_url=\"http://api.example.com/\",\n",
    "        )\n",
    "\n",
    "        self.get_access_token()\n",
    "\n",
    "    def get_access_token(self):\n",
    "        data = {'code': 'bar',\n",
    "                'grant_type': 'client_credentials',\n",
    "                'redirect_uri': 'http://example.com/'}\n",
    "\n",
    "        session = self.service.get_auth_session(data=data, decoder=json.loads)\n",
    "\n",
    "        self.access_token = session.access_token\n",
    "\n",
    "# test"
   ]
  },
  {
   "cell_type": "code",
   "execution_count": 15,
   "metadata": {},
   "outputs": [],
   "source": [
    "import requests\n",
    "import requests.auth\n",
    "\n",
    "CLIENT_ID = str(auth[\"client_id\"])\n",
    "CLIENT_SECRET = str(auth[\"client_secret\"])\n",
    "TOKEN_URL = \"https://login.microsoftonline.com/\" + str(auth[\"tenant\"]) + \"/oauth2/token\"\n",
    "REDIRECT_URI = str(auth[\"URL\"])\n",
    "\n",
    "def get_token():\n",
    "    client_auth = requests.auth.HTTPBasicAuth(CLIENT_ID, CLIENT_SECRET)\n",
    "    post_data = {\"grant_type\": \"client_credentials\",\n",
    "#                  \"code\": code,\n",
    "                 \"resource\" : REDIRECT_URI,\n",
    "                 \"redirect_uri\": REDIRECT_URI}\n",
    "    response = requests.post(TOKEN_URL,\n",
    "                             auth=client_auth,\n",
    "                             data=post_data)\n",
    "    token_json = response.json()\n",
    "    return token_json[\"access_token\"]\n",
    "\n",
    "# print(get_token())"
   ]
  },
  {
   "cell_type": "code",
   "execution_count": null,
   "metadata": {},
   "outputs": [],
   "source": []
  },
  {
   "cell_type": "markdown",
   "metadata": {},
   "source": [
    "## office365.runtime\n",
    "https://pypi.org/project/Office365-REST-Python-Client/"
   ]
  },
  {
   "cell_type": "code",
   "execution_count": null,
   "metadata": {},
   "outputs": [],
   "source": [
    "from office365.runtime.auth.user_credential import UserCredential\n",
    "from office365.sharepoint.client_context import ClientContext\n",
    "\n",
    "# site_url = \"https://{your-tenant-prefix}.sharepoint.com\"\n",
    "site_url = str(auth[\"URL\"])\n",
    "\n",
    "# ctx = ClientContext(site_url).with_credentials(UserCredential(\"{username}\", \"{password}\"))\n",
    "auth = AuthenticationContext.ctx_auth.acquire_token_for_app(str(auth[\"client_id\"]), str(auth[\"client_secret\"]))\n",
    "\n",
    "ctx = ClientContext(site_url).with_credentials(UserCredential(\"{username}\", \"{password}\"))\n",
    "\n",
    "# web = ctx.web\n",
    "# ctx.load(web)\n",
    "# ctx.execute_query()\n",
    "# print(\"Web title: {0}\".format(web.properties['Title']))"
   ]
  },
  {
   "cell_type": "code",
   "execution_count": null,
   "metadata": {},
   "outputs": [],
   "source": []
  },
  {
   "cell_type": "markdown",
   "metadata": {},
   "source": [
    "## configparser"
   ]
  },
  {
   "cell_type": "code",
   "execution_count": 8,
   "metadata": {},
   "outputs": [
    {
     "name": "stdout",
     "output_type": "stream",
     "text": [
      "['bitbucket.org', 'topsecret.server.com']\n",
      "hg\n",
      "hg\n",
      "no\n",
      "no\n",
      "user\n",
      "serveraliveinterval\n",
      "compression\n",
      "compressionlevel\n",
      "forwardx11\n",
      "yes\n"
     ]
    }
   ],
   "source": [
    "import configparser\n",
    "path = \"./assets/\"\n",
    "config_file = \"_config.ini\"\n",
    "\n",
    "config = configparser.ConfigParser()\n",
    "config.read(path + config_file)\n",
    "\n",
    "# test --------------------------------------\n",
    "test = config.sections()\n",
    "# ['bitbucket.org', 'topsecret.server.com']\n",
    "print(test)\n",
    "test = config['bitbucket.org']['User']\n",
    "# 'hg'\n",
    "print(test)\n",
    "# 'yes'\n",
    "print(test)\n",
    "topsecret = config['topsecret.server.com']\n",
    "test = topsecret['ForwardX11']\n",
    "# 'no'\n",
    "print(test)\n",
    "topsecret['Port']\n",
    "# '50022'\n",
    "print(test)\n",
    "\n",
    "for key in config['bitbucket.org']:  \n",
    "    print(key)\n",
    "\n",
    "test = config['DEFAULT']\n",
    "print(test['Compression'])\n"
   ]
  },
  {
   "cell_type": "code",
   "execution_count": null,
   "metadata": {},
   "outputs": [],
   "source": []
  },
  {
   "cell_type": "markdown",
   "metadata": {},
   "source": [
    "# end"
   ]
  },
  {
   "cell_type": "code",
   "execution_count": null,
   "metadata": {},
   "outputs": [],
   "source": []
  },
  {
   "cell_type": "code",
   "execution_count": null,
   "metadata": {},
   "outputs": [],
   "source": []
  },
  {
   "cell_type": "code",
   "execution_count": null,
   "metadata": {},
   "outputs": [],
   "source": []
  }
 ],
 "metadata": {
  "kernelspec": {
   "display_name": "Python 3",
   "language": "python",
   "name": "python3"
  },
  "language_info": {
   "codemirror_mode": {
    "name": "ipython",
    "version": 3
   },
   "file_extension": ".py",
   "mimetype": "text/x-python",
   "name": "python",
   "nbconvert_exporter": "python",
   "pygments_lexer": "ipython3",
   "version": "3.7.3"
  }
 },
 "nbformat": 4,
 "nbformat_minor": 4
}
