{
 "cells": [
  {
   "cell_type": "markdown",
   "metadata": {},
   "source": [
    "# Notebook"
   ]
  },
  {
   "cell_type": "code",
   "execution_count": 12,
   "metadata": {},
   "outputs": [
    {
     "data": {
      "text/plain": [
       "['../../../__data/_config.ini']"
      ]
     },
     "execution_count": 12,
     "metadata": {},
     "output_type": "execute_result"
    }
   ],
   "source": [
    "import configparser\n",
    "\n",
    "path = \"../../../__data/\"\n",
    "config_file = \"_config.ini\"\n",
    "\n",
    "config = configparser.ConfigParser()\n",
    "config.read(path + config_file)\n",
    "# print( config[\"topsecret.server.com\"]['Port'])"
   ]
  },
  {
   "cell_type": "code",
   "execution_count": null,
   "metadata": {},
   "outputs": [],
   "source": [
    "site_url = 'https://contoso.sharepoint.com/'\n",
    "app_principal = {\n",
    "     'client_id': '--client-id-goes-here--',\n",
    "     'client_secret': '--client-secret-goes-here--',\n",
    "}\n",
    "    \n",
    "context_auth = AuthenticationContext(url=site_url)\n",
    "context_auth.acquire_token_for_app(client_id=app_principal['client_id'], client_secret=app_principal['client_secret'])\n",
    "    \n",
    "ctx = ClientContext(site_url, context_auth)\n",
    "web = ctx.web\n",
    "ctx.load(web)\n",
    "ctx.execute_query()\n",
    "print(\"Web site title: {0}\".format(web.properties['Title']))"
   ]
  },
  {
   "cell_type": "code",
   "execution_count": null,
   "metadata": {},
   "outputs": [],
   "source": []
  },
  {
   "cell_type": "code",
   "execution_count": 1,
   "metadata": {},
   "outputs": [
    {
     "name": "stdout",
     "output_type": "stream",
     "text": [
      "test Notebook\n"
     ]
    }
   ],
   "source": [
    "print(\"test Notebook\")"
   ]
  },
  {
   "cell_type": "code",
   "execution_count": null,
   "metadata": {},
   "outputs": [],
   "source": []
  },
  {
   "cell_type": "code",
   "execution_count": null,
   "metadata": {},
   "outputs": [],
   "source": []
  },
  {
   "cell_type": "markdown",
   "metadata": {},
   "source": [
    "# test"
   ]
  },
  {
   "cell_type": "markdown",
   "metadata": {},
   "source": [
    "## configparser"
   ]
  },
  {
   "cell_type": "code",
   "execution_count": 8,
   "metadata": {},
   "outputs": [
    {
     "name": "stdout",
     "output_type": "stream",
     "text": [
      "['bitbucket.org', 'topsecret.server.com']\n",
      "hg\n",
      "hg\n",
      "no\n",
      "no\n",
      "user\n",
      "serveraliveinterval\n",
      "compression\n",
      "compressionlevel\n",
      "forwardx11\n",
      "yes\n"
     ]
    }
   ],
   "source": [
    "import configparser\n",
    "path = \"./assets/\"\n",
    "config_file = \"_config.ini\"\n",
    "\n",
    "config = configparser.ConfigParser()\n",
    "config.read(path + config_file)\n",
    "\n",
    "# test --------------------------------------\n",
    "test = config.sections()\n",
    "# ['bitbucket.org', 'topsecret.server.com']\n",
    "print(test)\n",
    "test = config['bitbucket.org']['User']\n",
    "# 'hg'\n",
    "print(test)\n",
    "# 'yes'\n",
    "print(test)\n",
    "topsecret = config['topsecret.server.com']\n",
    "test = topsecret['ForwardX11']\n",
    "# 'no'\n",
    "print(test)\n",
    "topsecret['Port']\n",
    "# '50022'\n",
    "print(test)\n",
    "\n",
    "for key in config['bitbucket.org']:  \n",
    "    print(key)\n",
    "\n",
    "test = config['DEFAULT']\n",
    "print(test['Compression'])\n"
   ]
  },
  {
   "cell_type": "code",
   "execution_count": null,
   "metadata": {},
   "outputs": [],
   "source": []
  }
 ],
 "metadata": {
  "kernelspec": {
   "display_name": "Python 3",
   "language": "python",
   "name": "python3"
  },
  "language_info": {
   "codemirror_mode": {
    "name": "ipython",
    "version": 3
   },
   "file_extension": ".py",
   "mimetype": "text/x-python",
   "name": "python",
   "nbconvert_exporter": "python",
   "pygments_lexer": "ipython3",
   "version": "3.7.3"
  }
 },
 "nbformat": 4,
 "nbformat_minor": 4
}
